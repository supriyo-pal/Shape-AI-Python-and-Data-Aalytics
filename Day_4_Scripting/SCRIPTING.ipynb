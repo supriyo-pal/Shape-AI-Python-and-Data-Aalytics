{
  "nbformat": 4,
  "nbformat_minor": 0,
  "metadata": {
    "colab": {
      "name": "SCRIPTING.ipynb",
      "provenance": [],
      "collapsed_sections": []
    },
    "kernelspec": {
      "name": "python3",
      "display_name": "Python 3"
    }
  },
  "cells": [
    {
      "cell_type": "markdown",
      "metadata": {
        "id": "zq4ppQwXhXoP"
      },
      "source": [
        "#<b>Scripting</b>\n",
        "\n",
        "Upload all the python files mentioned below in the colab:\n",
        "\n",
        "* jujutsu.py\n",
        "\n",
        "* create_snakes.py\n",
        "\n",
        "* error_exception_1.py\n",
        "\n",
        "* error_exception_2.py\n",
        "\n",
        "* error_handeling_1.py\n",
        "\n",
        "* error_handeling_2.py\n",
        "\n",
        "* error_handeling_3.py\n",
        "\n",
        "* error_syntax.py\n",
        "\n",
        "* hello.py\n",
        "\n",
        "* input_numbers.py\n",
        "\n",
        "* input_strings.py\n",
        "\n",
        "* read.py\n",
        "\n",
        "* read_int_arguments.py\n",
        "\n",
        "* Scripting.ipynb\n",
        "\n",
        "* useful_functions.py\n",
        "\n",
        "* write.py\n",
        "\n",
        "* my_file.txt\n",
        "\n"
      ]
    },
    {
      "cell_type": "markdown",
      "metadata": {
        "id": "gMZVL6LYhr27"
      },
      "source": [
        "**! :** Allows us to use bash commands in the jupyter notbook, so using the symbol **'!'** we can use all the commands that we can use in a terminal.\n",
        "<hr>"
      ]
    },
    {
      "cell_type": "markdown",
      "metadata": {
        "id": "Atd8uDhW04vY"
      },
      "source": [
        "<br><br>\n",
        "Let's use our first command to see all the files and folders present in the current folder.\n",
        "\n",
        "**ls** command list out all the files and folders present in the current folder"
      ]
    },
    {
      "cell_type": "code",
      "metadata": {
        "colab": {
          "base_uri": "https://localhost:8080/"
        },
        "id": "-OX2Ley00l2t",
        "outputId": "a7283a83-e39a-4262-ade1-7a6ba344d9f6"
      },
      "source": [
        "!ls   ## We use ! mark before the command ls to use that command in the jupyter notebook"
      ],
      "execution_count": 1,
      "outputs": [
        {
          "output_type": "stream",
          "text": [
            "create_snakes.py      error_handeling_3.py  JJK.txt\t useful_functions.py\n",
            "error_exception_1.py  error_syntax.py\t    jujutsu.py\t write.py\n",
            "error_exception_2.py  hello.py\t\t    my_file.txt\n",
            "error_handeling_1.py  input_numbers.py\t    read.py\n",
            "error_handeling_2.py  input_strings.py\t    sample_data\n"
          ],
          "name": "stdout"
        }
      ]
    },
    {
      "cell_type": "markdown",
      "metadata": {
        "id": "zDlePJ2O1fLE"
      },
      "source": [
        "Now we know that all these files are present in our working folder, let's run the first one using the command **python**.\n",
        "\n",
        "\n",
        "**python** command is used to run the python scripts via the terminal.\n",
        "python name_of_the_script runs the script and shows us the output of that script."
      ]
    },
    {
      "cell_type": "code",
      "metadata": {
        "colab": {
          "base_uri": "https://localhost:8080/"
        },
        "id": "DfU78YodqaU8",
        "outputId": "7655adc4-b373-4277-8651-f1d81fe778aa"
      },
      "source": [
        "'''\n",
        "CODE INSIDE THE FILE\n",
        "\n",
        "print('Hello World')\n",
        "'''\n",
        "!python hello.py  ## Runs hello.py file"
      ],
      "execution_count": 2,
      "outputs": [
        {
          "output_type": "stream",
          "text": [
            "Hello World\n"
          ],
          "name": "stdout"
        }
      ]
    },
    {
      "cell_type": "markdown",
      "metadata": {
        "id": "lclbW5PfTe0s"
      },
      "source": [
        "Let's run a script which requires user input to run and see how that works."
      ]
    },
    {
      "cell_type": "code",
      "metadata": {
        "colab": {
          "base_uri": "https://localhost:8080/"
        },
        "id": "FaduYXwxTNgU",
        "outputId": "ffbd9234-7ab4-4562-8ac7-f7c01657a644"
      },
      "source": [
        "!python create_snakes.py"
      ],
      "execution_count": 3,
      "outputs": [
        {
          "output_type": "stream",
          "text": [
            "Enter a number: 2\n",
            "\n",
            "Welcome to Python3!\n",
            "             ____\n",
            "            / . .\\\n",
            "            \\  ---<\n",
            "             \\  /\n",
            "   __________/ /\n",
            "-=:___________/\n",
            "\n",
            "Welcome to Python3!\n",
            "             ____\n",
            "            / . .\\\n",
            "            \\  ---<\n",
            "             \\  /\n",
            "   __________/ /\n",
            "-=:___________/\n",
            "\n"
          ],
          "name": "stdout"
        }
      ]
    },
    {
      "cell_type": "code",
      "metadata": {
        "colab": {
          "base_uri": "https://localhost:8080/"
        },
        "id": "pg-hUedqTt33",
        "outputId": "d59bf055-5310-46b6-9cc2-0122b6532da1"
      },
      "source": [
        "'''\n",
        "CODE INSIDE THE FILE\n",
        "\n",
        "# string input\n",
        "name = input(\"Enter your name: \")\n",
        "print(\"Hello there, {}!\".format(name.title()))\n",
        "'''\n",
        "\n",
        "!python input_strings.py"
      ],
      "execution_count": 4,
      "outputs": [
        {
          "output_type": "stream",
          "text": [
            "Enter your name: Rahul\n",
            "Hello there, Rahul!\n"
          ],
          "name": "stdout"
        }
      ]
    },
    {
      "cell_type": "markdown",
      "metadata": {
        "id": "8SpxxkKPkTJB"
      },
      "source": [
        "###<b>Error and Exception</b>\n",
        "\n",
        "* <b>Syntax Error </b>occur when Python can’t interpret our code, since we didn’t follow the correct syntax for Python. These are errors you’re likely to get when you make a typo, or you’re first starting to learn Python.\n",
        "\n",
        "* <b>Exceptions </b>occur when unexpected things happen during execution of a program, even if the code is syntactically correct. There are different types of built-in exceptions in Python, and you can see which exception is thrown in the error message."
      ]
    },
    {
      "cell_type": "code",
      "metadata": {
        "colab": {
          "base_uri": "https://localhost:8080/"
        },
        "id": "oWvC0idCA3ba",
        "outputId": "516d6ec8-6224-42d6-a017-1cab672c32db"
      },
      "source": [
        "'''\n",
        "CODE INSIDE THE FILE\n",
        "\n",
        "msg = \"Welcome to the ShapeAI developer community\n",
        "print msg\n",
        "'''\n",
        "!python error_syntax.py"
      ],
      "execution_count": 5,
      "outputs": [
        {
          "output_type": "stream",
          "text": [
            "  File \"error_syntax.py\", line 8\n",
            "    msg = \"Welcome to the ShapeAI developer community\n",
            "                                                    ^\n",
            "SyntaxError: EOL while scanning string literal\n"
          ],
          "name": "stdout"
        }
      ]
    },
    {
      "cell_type": "code",
      "metadata": {
        "colab": {
          "base_uri": "https://localhost:8080/"
        },
        "id": "-E85Nc3633VS",
        "outputId": "fc0603e5-9ea9-4683-e004-976832e9a7ee"
      },
      "source": [
        "'''\n",
        "CODE INSIDE THE FILE\n",
        "\n",
        "x = int(input(\"Enter a number: \"))\n",
        "x += 20\n",
        "print(x)\n",
        "'''\n",
        "!python error_exception_1.py\n",
        "\n",
        "# After we run this file, we need to enter an integer\n",
        "# But what if we enter a character instead of an integer"
      ],
      "execution_count": 6,
      "outputs": [
        {
          "output_type": "stream",
          "text": [
            "Enter a number: r\n",
            "Traceback (most recent call last):\n",
            "  File \"error_exception_1.py\", line 8, in <module>\n",
            "    x = int(input(\"Enter a number: \"))\n",
            "ValueError: invalid literal for int() with base 10: 'r'\n"
          ],
          "name": "stdout"
        }
      ]
    },
    {
      "cell_type": "code",
      "metadata": {
        "colab": {
          "base_uri": "https://localhost:8080/"
        },
        "id": "teQhQTBt4eAN",
        "outputId": "8aa82a5d-4eae-4ba7-fd29-044672d5a7f2"
      },
      "source": [
        "'''\n",
        "CODE INSIDE THE FILE\n",
        "\n",
        "print(variable_doesnt_exist)\n",
        "'''\n",
        "!python error_exception_2.py"
      ],
      "execution_count": 7,
      "outputs": [
        {
          "output_type": "stream",
          "text": [
            "Traceback (most recent call last):\n",
            "  File \"error_exception_2.py\", line 1, in <module>\n",
            "    print(variable_doesnt_exist)\n",
            "NameError: name 'variable_doesnt_exist' is not defined\n"
          ],
          "name": "stdout"
        }
      ]
    },
    {
      "cell_type": "markdown",
      "metadata": {
        "id": "qMKPd0Rb4JiP"
      },
      "source": [
        "As you might have noticed, when an error or any exception is generated, we get an error message. In the first case an exception is generated with a message *SyntaxError*, followed by *ValueError* and *NameError* in second and third respectively.<br><br>\n",
        "\n",
        "The message SyntaxError, ValueError or the NameError specifies the type of the exception that is being generated. Different messages generate for different types of exceptions. <br>\n",
        "There are many different message code for different types of exceptions or errors. Though we don't need to remember them, but you can have a look at all of them from [here](https://docs.python.org/3/library/exceptions.html#bltin-exceptions).<br><br>\n",
        "\n",
        "\n"
      ]
    },
    {
      "cell_type": "markdown",
      "metadata": {
        "id": "BSyFMoRJlXGC"
      },
      "source": [
        "###<b>Error Handling</b>\n",
        "\n",
        "We can use try statements to handle exceptions. There are four clauses you can use.\n",
        "\n",
        "\n",
        "\n",
        "1. <b>try</b>: This is the only mandatory clause in a try statement. The code in this block is the first thing that Python runs in a try statement.\n",
        "2. <b>except</b>: If Python runs into an exception while running the try block, it will jump to the except block that handles that exception.\n",
        "3. <b>else:</b> If Python runs into no exceptions while running the try block, it will run the code in this block after running the try block.\n",
        "4. <b>finally:</b> Before Python leaves this try statement, it will run the code in this finally block under any conditions, even if it's ending the program. E.g., if Python ran into an error while running code in the except or else block, this finally block will still be executed before stopping the program."
      ]
    },
    {
      "cell_type": "code",
      "metadata": {
        "colab": {
          "base_uri": "https://localhost:8080/"
        },
        "id": "zHdbEpmZ6FNh",
        "outputId": "8f223a77-0181-461f-c0b2-3762227d7bc1"
      },
      "source": [
        "'''\n",
        "CODE INSIDE THE FILE\n",
        "\n",
        "try:\n",
        "  num = int(input(\"Enter a integer: \"))\n",
        "  print(f\"Hey you entered {num}, is it your lucky number XD\")\n",
        "except:\n",
        "  print(\"Not a valid number\")\n",
        "\n",
        "'''\n",
        "!python error_handeling_1.py\n",
        "\n",
        "# The code runs the try block, if all goes well, it runs the try block till the end\n",
        "# But if some exception occurs, it stops executing the try cell and jump to the except block"
      ],
      "execution_count": 8,
      "outputs": [
        {
          "output_type": "stream",
          "text": [
            "Enter a integer: t\n",
            "Not a valid number\n"
          ],
          "name": "stdout"
        }
      ]
    },
    {
      "cell_type": "code",
      "metadata": {
        "colab": {
          "base_uri": "https://localhost:8080/"
        },
        "id": "PBUvJfLV8Ii0",
        "outputId": "c735ebf8-21d3-4a0e-b9c3-d0dc5c0fd38f"
      },
      "source": [
        "'''\n",
        "CODE INSIDE THE FILE\n",
        "\n",
        "while(True):\n",
        "    try:\n",
        "        num = int(input(\"Enter a integer: \"))\n",
        "        print(f\"Hey you entered {num}, is it your lucky number XD\")\n",
        "        break\n",
        "    except:\n",
        "        print(\"Not a valid number\")\n",
        "    finally:\n",
        "        print('\\nAttempted to Input\\n')\n",
        "'''\n",
        "!python error_handeling_2.py\n",
        "\n",
        "# The program keeps asking you to enter a number till you enter a valid entry\n",
        "# But you can see the code inside the finally block always gets executed \n",
        "# irrespective of whether the exception was raised or not"
      ],
      "execution_count": 9,
      "outputs": [
        {
          "output_type": "stream",
          "text": [
            "Enter a integer: a\n",
            "Not a valid number\n",
            "\n",
            "Attempted to Input\n",
            "\n",
            "Enter a integer: 2\n",
            "Hey you entered 2, is it your lucky number XD\n",
            "\n",
            "Attempted to Input\n",
            "\n"
          ],
          "name": "stdout"
        }
      ]
    },
    {
      "cell_type": "code",
      "metadata": {
        "colab": {
          "base_uri": "https://localhost:8080/"
        },
        "id": "0uNZhteN95pu",
        "outputId": "bb48547a-9931-4171-dcf2-377456e72920"
      },
      "source": [
        "'''\n",
        "CODE INSIDE THE FILE\n",
        "\n",
        "while(True):\n",
        "    try:\n",
        "        num = int(input(\"Enter a integer: \"))\n",
        "        print(f\"Hey you entered {num}, is it your lucky number XD\")\n",
        "        break\n",
        "    except ValueError:\n",
        "        print(\"Not a valid number\")\n",
        "    except KeyboardInterrupt:\n",
        "        print(\"\\nNo input taken\")\n",
        "        break     \n",
        "    finally:\n",
        "        print('\\nAttempted to Input\\n')\n",
        "'''\n",
        "!python error_handeling_3.py\n",
        "\n",
        "# We can also specify different code of lines to be executed based on the \n",
        "# different kind of exception raised."
      ],
      "execution_count": 10,
      "outputs": [
        {
          "output_type": "stream",
          "text": [
            "Enter a integer: y\n",
            "Not a valid number\n",
            "\n",
            "Attempted to Input\n",
            "\n",
            "Enter a integer: 2\n",
            "Hey you entered 2, is it your lucky number XD\n",
            "\n",
            "Attempted to Input\n",
            "\n"
          ],
          "name": "stdout"
        }
      ]
    },
    {
      "cell_type": "markdown",
      "metadata": {
        "id": "FGUztBDh-4jm"
      },
      "source": [
        "###<b>File Handeling</b>\n",
        "\n",
        "File Handling is the storing of data in a file using a program. We can do so using python. We can create, write, extract/fetch data from a file using python. File Handling is the storing of data in a file using a program.\n",
        "\n",
        "<br><hr>\n",
        "The key function for working with files in Python is the open() function.\n",
        "The open() function takes two parameters; filename, and mode and returns a file object which can used to read, write and modify the file. There are four different methods (modes) for opening a file:\n",
        "\n",
        "* \"r\" - Read - Default value. Opens a file for reading, error if the file does not exist\n",
        "* \"a\" - Append - Opens a file for appending, creates the file if it does not exist\n",
        "* \"w\" - Write - Opens a file for writing, creates the file if it does not exist\n",
        "* \"x\" - Create - Creates the specified file, returns an error if the file exists "
      ]
    },
    {
      "cell_type": "code",
      "metadata": {
        "colab": {
          "base_uri": "https://localhost:8080/"
        },
        "id": "eXm8GlcsU4lF",
        "outputId": "943b217e-3cf8-48ad-a8d4-b4f517bbdedf"
      },
      "source": [
        "# Firstly let's run the script to read data from a file.\n",
        "# Beacause we are just reading the data from the file, we\n",
        "# open the file in the reading mode.\n",
        "\n",
        "'''\n",
        "CODE INSIDE THE FILE\n",
        "\n",
        "f = open('my_file.txt', 'r')\n",
        "file_data = f.read()\n",
        "f.close()\n",
        "print(file_data)\n",
        "'''\n",
        "\n",
        "!python read.py"
      ],
      "execution_count": 11,
      "outputs": [
        {
          "output_type": "stream",
          "text": [
            "Hello, welcome to my_file.\n"
          ],
          "name": "stdout"
        }
      ]
    },
    {
      "cell_type": "markdown",
      "metadata": {
        "id": "g_LdYrS1arwd"
      },
      "source": [
        "To read data from a file we open the file in 'r' mode (reading mode).\n",
        "If the file with that name doesn't exist, an exception is raised.<br>\n",
        "\n"
      ]
    },
    {
      "cell_type": "markdown",
      "metadata": {
        "id": "vFSQZMtUWXJ9"
      },
      "source": [
        ">**NOTE :** After we are done using a file, we should always close it. It is a bad practice to leave the file open, as opening too many files may drain out all your resources.\n",
        "\n",
        "To close the file we use close() method."
      ]
    },
    {
      "cell_type": "code",
      "metadata": {
        "id": "kSmDVs43Zn4-"
      },
      "source": [
        "# Now let's run a script to write inside a file.\n",
        "\n",
        "'''\n",
        "CODE INSIDE THE FILE\n",
        "\n",
        "  \n",
        "f = open('new_file.txt', 'w')\n",
        "f.write(\"Hello there!\")\n",
        "f.close()\n",
        "'''\n",
        "\n",
        "!python write.py"
      ],
      "execution_count": 12,
      "outputs": []
    },
    {
      "cell_type": "markdown",
      "metadata": {
        "id": "aA7ZI0jkaO7e"
      },
      "source": [
        "To write inside a file we open the file in 'w' mode (writing mode).\n",
        "If the file with that name doesn't exist, a new file is created with that name, and we can write in that. As you can now see in the files section, there is now  new file named 'new_file.txt'.\n",
        "\n",
        ">**NOTE:** When you write in a file in write mode, all the previous written data is lost and new data is added. So, if we want to keep all the previous data and add new one, then we should open the file in append mode."
      ]
    },
    {
      "cell_type": "markdown",
      "metadata": {
        "id": "gowxKpvEr_DV"
      },
      "source": [
        "####**with open()** <br>\n",
        "with open() is another way of opening the file in python. It do the same task as done by the open() function but it has some advanages over the *open function* .\n",
        "\n",
        "<u>Advantages of using with open :</u>\n",
        "\n",
        "* No need to explicitly close the opened file, “with statement” takes care of that. When with the block ends, it will automatically close the file. So, it reduces the number of lines of code and reduces the chances of bug.\n",
        "\n",
        "* Excellent handling in case of exception\n",
        "```\n",
        "try:\n",
        "    with open('file.txt', \"r\") as f1:\n",
        "        data = file_object.read()\n",
        "        x = 1 / 0\n",
        "        print(data)\n",
        "except:\n",
        "    print('Error')\n",
        "    if f1.closed == False:\n",
        "        print('File is not closed')\n",
        "    else:\n",
        "        print('File is closed')\n",
        "```\n",
        "So even the exception is raised in the try block we don't need to explicitly close the file, the file will automatically get closed as soon as the exception is raised.\n",
        "\n",
        "* We can open multiple files in a single “with statement”.\n",
        "```\n",
        "with open('file1.txt', 'w') as f1, open('file2.txt', 'r') as f2:\n",
        "    data = f2.read()\n",
        "    f1.write(data)\n",
        "```"
      ]
    },
    {
      "cell_type": "code",
      "metadata": {
        "colab": {
          "base_uri": "https://localhost:8080/"
        },
        "id": "qthYygSXva_z",
        "outputId": "1cd95223-004e-4511-d8fa-44ed3d33e516"
      },
      "source": [
        "'''\n",
        "CODE INSIDE THE FILE\n",
        "\n",
        "characters = []\n",
        "with open(\"JJK.txt\") as f:\n",
        "    for line in f:\n",
        "        characters.append(line.strip())\n",
        "\n",
        "for val in characters:\n",
        "    print(val)\n",
        "'''\n",
        "\n",
        "!python jujutsu.py"
      ],
      "execution_count": 13,
      "outputs": [
        {
          "output_type": "stream",
          "text": [
            "--TOKYO JUJUSTSU HIGH--\n",
            "\n",
            "FACULTY:   Masamichi Yaga,  Satorou Gojo,  Atsuya Kusakabe,   Shoko Ieiri,  Kiyotaka Ijichi,   Akari Nitta\n",
            "1st YEAR:   Yuji Itadori,  Megumi Fushiguro,  Nobara Kugisaki\n",
            "2nd YEAR:  Maki Zenin,  Toge Inumaki,  Panda,  Yuta Okkotsu\n",
            "3rd YEAR:   Kinji Hakari\n",
            "\n",
            "\n",
            "--KYOTO JUJUTSU HIGH--\n",
            "\n",
            "FACULTY:  Yoshinobu Gakuganji,  Utahime lori\n",
            "1st YEAR:   Arata Nitta\n",
            "2nd YEAR: Mai Zenin, Kokichi Muta, Kasumi Miwa\n",
            "3rd YEAR:  Noritoshi Kamo,  Aoi Todo,  Momo Nishimiya\n",
            ",\n"
          ],
          "name": "stdout"
        }
      ]
    },
    {
      "cell_type": "markdown",
      "metadata": {
        "id": "Lh_V605hdPa8"
      },
      "source": [
        "###<b>Importing Files</b>\n",
        "\n",
        "Python allows you to put code in a .py file and import it from other scripts in the same directory."
      ]
    },
    {
      "cell_type": "markdown",
      "metadata": {
        "id": "ClbQVphxdVJX"
      },
      "source": [
        "\n",
        "\n",
        "```\n",
        "# CODE INSIDE useful_functions.py\n",
        "\n",
        "print(5)\n",
        "\n",
        "num = 2+10\n",
        "\n",
        "def mean(num_list):\n",
        "    return sum(num_list) / len(num_list)\n",
        "\n",
        "def add_five(num_list):\n",
        "    return [n + 5 for n in num_list]\n",
        "\n",
        "def main():\n",
        "    print(\"Testing mean function\")\n",
        "    n_list = [34, 44, 23, 46, 12, 24]\n",
        "    correct_mean = 30.5\n",
        "    assert(mean(n_list) == correct_mean)\n",
        "\n",
        "    print(\"Testing add_five function\")\n",
        "    correct_list = [39, 49, 28, 51, 17, 29]\n",
        "    assert(add_five(n_list) == correct_list)\n",
        "\n",
        "    print(\"All tests passed!\")\n",
        "```"
      ]
    },
    {
      "cell_type": "code",
      "metadata": {
        "colab": {
          "base_uri": "https://localhost:8080/"
        },
        "id": "WfJmFMJ1foCT",
        "outputId": "d1b9026f-25e6-4fc1-8b03-111fbc37b142"
      },
      "source": [
        "'''\n",
        "CODE INSIDE THE FILE\n",
        "\n",
        "import useful_functions as uf\n",
        "\n",
        "print(uf.num)\n",
        "\n",
        "scores = [88, 92, 79, 93, 85]\n",
        "\n",
        "mean = uf.mean(scores)\n",
        "curved = uf.add_five(scores)\n",
        "\n",
        "mean_c = uf.mean(curved)\n",
        "\n",
        "print(\"Scores:\", scores)\n",
        "print(\"Original Mean:\", mean, \" New Mean:\", mean_c)\n",
        "'''\n",
        "!python demo.py"
      ],
      "execution_count": 15,
      "outputs": [
        {
          "output_type": "stream",
          "text": [
            "5\n",
            "12\n",
            "Scores: [88, 92, 79, 93, 85]\n",
            "Original Mean: 87.4  New Mean: 92.4\n"
          ],
          "name": "stdout"
        }
      ]
    },
    {
      "cell_type": "markdown",
      "metadata": {
        "id": "hBq4m3CxgBjI"
      },
      "source": [
        "The very first line *import useful_functions as uf* means to import the file useful_function and uf is the <u>alias</u> for the file, which means whenever i write uf, that is equivalent to writing useful_functions.<br>\n",
        "\n",
        "**uf.num** uses the num variable present in the file useful_functions.<br>\n",
        "**uf.mean(), uf.add_five()** means we are reffering to the mean function and dd_five function from the file uf (*i.e.* useful_function)"
      ]
    }
  ]
}