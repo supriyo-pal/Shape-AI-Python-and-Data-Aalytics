{
  "nbformat": 4,
  "nbformat_minor": 0,
  "metadata": {
    "colab": {
      "name": "Untitled19.ipynb",
      "provenance": []
    },
    "kernelspec": {
      "name": "python3",
      "display_name": "Python 3"
    }
  },
  "cells": [
    {
      "cell_type": "markdown",
      "metadata": {
        "id": "MXXd1x8njYcI"
      },
      "source": [
        "In this particular Assignment, you'll practice creating single-variable plots for categorical data."
      ]
    },
    {
      "cell_type": "code",
      "metadata": {
        "id": "xgNVIJ9TjVXR"
      },
      "source": [
        "# prerequisite package imports\r\n",
        "import numpy as np\r\n",
        "import pandas as pd\r\n",
        "import matplotlib.pyplot as plt\r\n",
        "import seaborn as sb\r\n",
        "\r\n",
        "%matplotlib inline"
      ],
      "execution_count": 1,
      "outputs": []
    },
    {
      "cell_type": "markdown",
      "metadata": {
        "id": "0TXyaJ8hjl_y"
      },
      "source": [
        "In this Assignmet, you'll be working with this dataset comprised of attributes of creatures in the video game series Pokémon."
      ]
    },
    {
      "cell_type": "code",
      "metadata": {
        "colab": {
          "base_uri": "https://localhost:8080/",
          "height": 241
        },
        "id": "We4aiROqjpDx",
        "outputId": "b64b9d06-f0fe-4508-8f32-1d2fef27db3b"
      },
      "source": [
        "pokemon = pd.read_csv('pokemon.csv')\r\n",
        "pokemon.head()"
      ],
      "execution_count": 2,
      "outputs": [
        {
          "output_type": "execute_result",
          "data": {
            "text/html": [
              "<div>\n",
              "<style scoped>\n",
              "    .dataframe tbody tr th:only-of-type {\n",
              "        vertical-align: middle;\n",
              "    }\n",
              "\n",
              "    .dataframe tbody tr th {\n",
              "        vertical-align: top;\n",
              "    }\n",
              "\n",
              "    .dataframe thead th {\n",
              "        text-align: right;\n",
              "    }\n",
              "</style>\n",
              "<table border=\"1\" class=\"dataframe\">\n",
              "  <thead>\n",
              "    <tr style=\"text-align: right;\">\n",
              "      <th></th>\n",
              "      <th>id</th>\n",
              "      <th>species</th>\n",
              "      <th>generation_id</th>\n",
              "      <th>height</th>\n",
              "      <th>weight</th>\n",
              "      <th>base_experience</th>\n",
              "      <th>type_1</th>\n",
              "      <th>type_2</th>\n",
              "      <th>hp</th>\n",
              "      <th>attack</th>\n",
              "      <th>defense</th>\n",
              "      <th>speed</th>\n",
              "      <th>special-attack</th>\n",
              "      <th>special-defense</th>\n",
              "    </tr>\n",
              "  </thead>\n",
              "  <tbody>\n",
              "    <tr>\n",
              "      <th>0</th>\n",
              "      <td>1</td>\n",
              "      <td>bulbasaur</td>\n",
              "      <td>1</td>\n",
              "      <td>0.7</td>\n",
              "      <td>6.9</td>\n",
              "      <td>64</td>\n",
              "      <td>grass</td>\n",
              "      <td>poison</td>\n",
              "      <td>45</td>\n",
              "      <td>49</td>\n",
              "      <td>49</td>\n",
              "      <td>45</td>\n",
              "      <td>65</td>\n",
              "      <td>65</td>\n",
              "    </tr>\n",
              "    <tr>\n",
              "      <th>1</th>\n",
              "      <td>2</td>\n",
              "      <td>ivysaur</td>\n",
              "      <td>1</td>\n",
              "      <td>1.0</td>\n",
              "      <td>13.0</td>\n",
              "      <td>142</td>\n",
              "      <td>grass</td>\n",
              "      <td>poison</td>\n",
              "      <td>60</td>\n",
              "      <td>62</td>\n",
              "      <td>63</td>\n",
              "      <td>60</td>\n",
              "      <td>80</td>\n",
              "      <td>80</td>\n",
              "    </tr>\n",
              "    <tr>\n",
              "      <th>2</th>\n",
              "      <td>3</td>\n",
              "      <td>venusaur</td>\n",
              "      <td>1</td>\n",
              "      <td>2.0</td>\n",
              "      <td>100.0</td>\n",
              "      <td>236</td>\n",
              "      <td>grass</td>\n",
              "      <td>poison</td>\n",
              "      <td>80</td>\n",
              "      <td>82</td>\n",
              "      <td>83</td>\n",
              "      <td>80</td>\n",
              "      <td>100</td>\n",
              "      <td>100</td>\n",
              "    </tr>\n",
              "    <tr>\n",
              "      <th>3</th>\n",
              "      <td>4</td>\n",
              "      <td>charmander</td>\n",
              "      <td>1</td>\n",
              "      <td>0.6</td>\n",
              "      <td>8.5</td>\n",
              "      <td>62</td>\n",
              "      <td>fire</td>\n",
              "      <td>NaN</td>\n",
              "      <td>39</td>\n",
              "      <td>52</td>\n",
              "      <td>43</td>\n",
              "      <td>65</td>\n",
              "      <td>60</td>\n",
              "      <td>50</td>\n",
              "    </tr>\n",
              "    <tr>\n",
              "      <th>4</th>\n",
              "      <td>5</td>\n",
              "      <td>charmeleon</td>\n",
              "      <td>1</td>\n",
              "      <td>1.1</td>\n",
              "      <td>19.0</td>\n",
              "      <td>142</td>\n",
              "      <td>fire</td>\n",
              "      <td>NaN</td>\n",
              "      <td>58</td>\n",
              "      <td>64</td>\n",
              "      <td>58</td>\n",
              "      <td>80</td>\n",
              "      <td>80</td>\n",
              "      <td>65</td>\n",
              "    </tr>\n",
              "  </tbody>\n",
              "</table>\n",
              "</div>"
            ],
            "text/plain": [
              "   id     species  generation_id  ...  speed  special-attack  special-defense\n",
              "0   1   bulbasaur              1  ...     45              65               65\n",
              "1   2     ivysaur              1  ...     60              80               80\n",
              "2   3    venusaur              1  ...     80             100              100\n",
              "3   4  charmander              1  ...     65              60               50\n",
              "4   5  charmeleon              1  ...     80              80               65\n",
              "\n",
              "[5 rows x 14 columns]"
            ]
          },
          "metadata": {
            "tags": []
          },
          "execution_count": 2
        }
      ]
    },
    {
      "cell_type": "markdown",
      "metadata": {
        "id": "AG50lyABjtDz"
      },
      "source": [
        "**Task 1:** There have been quite a few Pokémon introduced over the series' history. How many were introduced in each generation? Create a bar chart of these frequencies using the 'generation_id' column."
      ]
    },
    {
      "cell_type": "code",
      "metadata": {
        "id": "Zc_c95oNjws9"
      },
      "source": [
        "# YOUR CODE HERE"
      ],
      "execution_count": null,
      "outputs": []
    },
    {
      "cell_type": "markdown",
      "metadata": {
        "id": "ZcVFlUbMjzIA"
      },
      "source": [
        "Once you've created your chart, check the output from our solution. Your visualization does not need to be exactly the same as ours, but it should be able to come up with the same conclusions.\r\n",
        "\r\n",
        "![download.png](data:image/png;base64,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)"
      ]
    },
    {
      "cell_type": "markdown",
      "metadata": {
        "id": "ZJ4a8VbAkdsi"
      },
      "source": [
        "**Task 2:** Each Pokémon species has one or two 'types' that play a part in its offensive and defensive capabilities. How frequent is each type? The code below creates a new dataframe that puts all of the type counts in a single column."
      ]
    },
    {
      "cell_type": "code",
      "metadata": {
        "colab": {
          "base_uri": "https://localhost:8080/",
          "height": 204
        },
        "id": "P1WZDFO9kMyx",
        "outputId": "cdc74db9-538b-4547-e01c-339e50f94555"
      },
      "source": [
        "pkmn_types = pokemon.melt(id_vars = ['id','species'], \r\n",
        "                          value_vars = ['type_1', 'type_2'], \r\n",
        "                          var_name = 'type_level', value_name = 'type').dropna()\r\n",
        "pkmn_types.head()"
      ],
      "execution_count": 5,
      "outputs": [
        {
          "output_type": "execute_result",
          "data": {
            "text/html": [
              "<div>\n",
              "<style scoped>\n",
              "    .dataframe tbody tr th:only-of-type {\n",
              "        vertical-align: middle;\n",
              "    }\n",
              "\n",
              "    .dataframe tbody tr th {\n",
              "        vertical-align: top;\n",
              "    }\n",
              "\n",
              "    .dataframe thead th {\n",
              "        text-align: right;\n",
              "    }\n",
              "</style>\n",
              "<table border=\"1\" class=\"dataframe\">\n",
              "  <thead>\n",
              "    <tr style=\"text-align: right;\">\n",
              "      <th></th>\n",
              "      <th>id</th>\n",
              "      <th>species</th>\n",
              "      <th>type_level</th>\n",
              "      <th>type</th>\n",
              "    </tr>\n",
              "  </thead>\n",
              "  <tbody>\n",
              "    <tr>\n",
              "      <th>0</th>\n",
              "      <td>1</td>\n",
              "      <td>bulbasaur</td>\n",
              "      <td>type_1</td>\n",
              "      <td>grass</td>\n",
              "    </tr>\n",
              "    <tr>\n",
              "      <th>1</th>\n",
              "      <td>2</td>\n",
              "      <td>ivysaur</td>\n",
              "      <td>type_1</td>\n",
              "      <td>grass</td>\n",
              "    </tr>\n",
              "    <tr>\n",
              "      <th>2</th>\n",
              "      <td>3</td>\n",
              "      <td>venusaur</td>\n",
              "      <td>type_1</td>\n",
              "      <td>grass</td>\n",
              "    </tr>\n",
              "    <tr>\n",
              "      <th>3</th>\n",
              "      <td>4</td>\n",
              "      <td>charmander</td>\n",
              "      <td>type_1</td>\n",
              "      <td>fire</td>\n",
              "    </tr>\n",
              "    <tr>\n",
              "      <th>4</th>\n",
              "      <td>5</td>\n",
              "      <td>charmeleon</td>\n",
              "      <td>type_1</td>\n",
              "      <td>fire</td>\n",
              "    </tr>\n",
              "  </tbody>\n",
              "</table>\n",
              "</div>"
            ],
            "text/plain": [
              "   id     species type_level   type\n",
              "0   1   bulbasaur     type_1  grass\n",
              "1   2     ivysaur     type_1  grass\n",
              "2   3    venusaur     type_1  grass\n",
              "3   4  charmander     type_1   fire\n",
              "4   5  charmeleon     type_1   fire"
            ]
          },
          "metadata": {
            "tags": []
          },
          "execution_count": 5
        }
      ]
    },
    {
      "cell_type": "markdown",
      "metadata": {
        "id": "txBA2bp7knYH"
      },
      "source": [
        "Your task is to use this dataframe to create a relative frequency plot of the proportion of Pokémon with each type, sorted from most frequent to least. Hint: The sum across bars should be greater than 100%, since many Pokémon have two types. Keep this in mind when considering a denominator to compute relative frequencies."
      ]
    },
    {
      "cell_type": "code",
      "metadata": {
        "id": "hHuT6mElkkXV"
      },
      "source": [
        "# YOUR CODE HERE"
      ],
      "execution_count": null,
      "outputs": []
    },
    {
      "cell_type": "markdown",
      "metadata": {
        "id": "vPk1tOltlAFK"
      },
      "source": [
        "Once you've created your chart, check the output from our solution. Your visualization does not need to be exactly the same as ours, but it should be able to come up with the same conclusions.\r\n",
        "\r\n",
        "![download (1).png](data:image/png;base64,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)"
      ]
    }
  ]
}