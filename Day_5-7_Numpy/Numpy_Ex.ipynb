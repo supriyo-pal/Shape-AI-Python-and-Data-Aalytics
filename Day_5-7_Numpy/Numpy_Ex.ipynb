{
  "nbformat": 4,
  "nbformat_minor": 0,
  "metadata": {
    "colab": {
      "name": "Numpy_Ex.ipynb",
      "provenance": []
    },
    "kernelspec": {
      "name": "python3",
      "display_name": "Python 3"
    }
  },
  "cells": [
    {
      "cell_type": "markdown",
      "metadata": {
        "id": "UXI0WwAUww17"
      },
      "source": [
        "# **Mean Normalization**\r\n",
        "\r\n",
        "In machine learning we use large amounts of data to train our models. Some machine learning algorithms may require that the data is normalized in order to work correctly. The idea of normalization, also known as feature scaling, is to ensure that all the data is on a similar scale, i.e. that all the data takes on a similar range of values. For example, we might have a dataset that has values between 0 and 5,000. By normalizing the data we can make the range of values be between 0 and 1.\r\n",
        "\r\n",
        "In this lab, you will be performing a different kind of feature scaling known as mean normalization. Mean normalization will scale the data, but instead of making the values be between 0 and 1, it will distribute the values evenly in some small interval around zero. For example, if we have a dataset that has values between 0 and 5,000, after mean normalization the range of values will be distributed in some small range around 0, for example between -3 to 3. Because the range of values are distributed evenly around zero, this guarantees that the average (mean) of all elements will be zero. Therefore, when you perform mean normalization your data will not only be scaled but it will also have an average of zero.\r\n",
        "\r\n",
        "## **To Do:**\r\n",
        "\r\n",
        "You will start by importing NumPy and creating a rank 2 ndarray of random integers between 0 and 5,000 (inclusive) with 1000 rows and 20 columns. This array will simulate a dataset with a wide range of values. Fill in the code below\r\n"
      ]
    },
    {
      "cell_type": "code",
      "metadata": {
        "id": "9SalLdQuwQQf"
      },
      "source": [
        "# import NumPy into Python\r\n",
        "\r\n",
        "\r\n",
        "# Create a 1000 x 20 ndarray with random integers in the half-open interval [0, 5001).\r\n",
        "X = \r\n",
        "\r\n",
        "# print the shape of X"
      ],
      "execution_count": null,
      "outputs": []
    },
    {
      "cell_type": "markdown",
      "metadata": {
        "id": "qP2DDDNXxEzk"
      },
      "source": [
        "Now that you created the array we will mean normalize it. We will perform mean normalization using the following equation:\r\n",
        "\r\n",
        "check from here[https://render.githubusercontent.com/render/math?math=%5Cmbox%7BNorm_Col%7D_i%20%3D%20%5Cfrac%7B%5Cmbox%7BCol%7D_i%20-%20%5Cmu_i%7D%7B%5Csigma_i%7D&mode=inline]\r\n",
        "\r\n",
        "where $\\mbox{Col}_i$ is the $i$th column of $X$, $\\mu_i$ is average of the values in the $i$th column of $X$, and $\\sigma_i$ is the standard deviation of the values in the $i$th column of $X$. In other words, mean normalization is performed by subtracting from each column of $X$ the average of its values, and then by dividing by the standard deviation of its values. In the space below, you will first calculate the average and standard deviation of each column of $X$."
      ]
    },
    {
      "cell_type": "code",
      "metadata": {
        "id": "izrKME2mxazj"
      },
      "source": [
        "# Average of the values in each column of X\r\n",
        "ave_cols =\r\n",
        "\r\n",
        "# Standard Deviation of the values in each column of X\r\n",
        "std_cols ="
      ],
      "execution_count": null,
      "outputs": []
    },
    {
      "cell_type": "markdown",
      "metadata": {
        "id": "fCtrBSD4xwhs"
      },
      "source": [
        "If you have done the above calculations correctly, then ave_cols and std_cols, should both be vectors with shape (20,) since $X$ has 20 columns. You can verify this by filling the code below:"
      ]
    },
    {
      "cell_type": "code",
      "metadata": {
        "id": "TGMm6UhXxz1w"
      },
      "source": [
        "# Print the shape of ave_cols\r\n",
        "\r\n",
        "\r\n",
        "# Print the shape of std_cols"
      ],
      "execution_count": null,
      "outputs": []
    },
    {
      "cell_type": "markdown",
      "metadata": {
        "id": "CpuNoLJCx7Oc"
      },
      "source": [
        "You can now take advantage of Broadcasting to calculate the mean normalized version of $X$ in just one line of code using the equation above. Fill in the code below"
      ]
    },
    {
      "cell_type": "code",
      "metadata": {
        "id": "UGKhXMNwx9qo"
      },
      "source": [
        "# Mean normalize X\r\n",
        "X_norm ="
      ],
      "execution_count": null,
      "outputs": []
    },
    {
      "cell_type": "markdown",
      "metadata": {
        "id": "fQe0HuEcyB0U"
      },
      "source": [
        "\r\n",
        "If you have performed the mean normalization correctly, then the average of all the elements in $X_{\\tiny{\\mbox{norm}}}$ should be close to zero, and they should be evenly distributed in some small interval around zero. You can verify this by filing the code below:"
      ]
    },
    {
      "cell_type": "code",
      "metadata": {
        "id": "QWoH9RfwyG1i"
      },
      "source": [
        "# Print the average of all the values of X_norm\r\n",
        "\r\n",
        "\r\n",
        "# Print the average of the minimum value in each column of X_norm\r\n",
        "\r\n",
        "\r\n",
        "# Print the average of the maximum value in each column of X_norm"
      ],
      "execution_count": null,
      "outputs": []
    },
    {
      "cell_type": "markdown",
      "metadata": {
        "id": "uGaQI-iayKmJ"
      },
      "source": [
        "You should note that since $X$ was created using random integers, the above values will vary.\r\n",
        "\r\n",
        "## **Data Separation**\r\n",
        "\r\n",
        "After the data has been mean normalized, it is customary in machine learnig to split our dataset into three sets:\r\n",
        "\r\n",
        "- A Training Set\r\n",
        "- A Cross Validation Set\r\n",
        "- A Test Set\r\n",
        "\r\n",
        "\r\n",
        "The dataset is usually divided such that the Training Set contains 60% of the data, the Cross Validation Set contains 20% of the data, and the Test Set contains 20% of the data.\r\n",
        "\r\n",
        "In this part of the lab you will separate X_norm into a Training Set, Cross Validation Set, and a Test Set. Each data set will contain rows of X_norm chosen at random, making sure that we don't pick the same row twice. This will guarantee that all the rows of X_norm are chosen and randomly distributed among the three new sets.\r\n",
        "\r\n",
        "You will start by creating a rank 1 ndarray that contains a random permutation of the row indices of X_norm. You can do this by using the np.random.permutation() function. The np.random.permutation(N) function creates a random permutation of integers from 0 to N - 1. Let's see an example:"
      ]
    },
    {
      "cell_type": "code",
      "metadata": {
        "id": "c1AkEyigyVbv"
      },
      "source": [
        "# We create a random permutation of integers 0 to 4\r\n",
        "np.random.permutation(5)"
      ],
      "execution_count": null,
      "outputs": []
    },
    {
      "cell_type": "markdown",
      "metadata": {
        "id": "C_yhc7EOydFn"
      },
      "source": [
        "## **To Do**\r\n",
        "\r\n",
        "In the space below create a rank 1 ndarray that contains a random permutation of the row indices of X_norm. You can do this in one line of code by extracting the number of rows of X_norm using the shape attribute and then passing it to the np.random.permutation() function. Remember the shape attribute returns a tuple with two numbers in the form (rows,columns)."
      ]
    },
    {
      "cell_type": "code",
      "metadata": {
        "id": "20-SRJSkykHW"
      },
      "source": [
        "# Create a rank 1 ndarray that contains a random permutation of the row indices of `X_norm`\r\n",
        "row_indices ="
      ],
      "execution_count": null,
      "outputs": []
    },
    {
      "cell_type": "markdown",
      "metadata": {
        "id": "qJvfcWxOys8t"
      },
      "source": [
        "Now you can create the three datasets using the row_indices ndarray to select the rows that will go into each dataset. Rememeber that the Training Set contains 60% of the data, the Cross Validation Set contains 20% of the data, and the Test Set contains 20% of the data. Each set requires just one line of code to create. Fill in the code below"
      ]
    },
    {
      "cell_type": "code",
      "metadata": {
        "id": "GAS2K4EbyvTH"
      },
      "source": [
        "# Make any necessary calculations.\r\n",
        "# You can save your calculations into variables to use later.\r\n",
        "\r\n",
        "\r\n",
        "# Create a Training Set\r\n",
        "X_train =\r\n",
        "\r\n",
        "# Create a Cross Validation Set\r\n",
        "X_crossVal =\r\n",
        "\r\n",
        "# Create a Test Set\r\n",
        "X_test ="
      ],
      "execution_count": null,
      "outputs": []
    },
    {
      "cell_type": "markdown",
      "metadata": {
        "id": "mKnJN36kyx0i"
      },
      "source": [
        "If you performed the above calculations correctly, then X_tain should have 600 rows and 20 columns, X_crossVal should have 200 rows and 20 columns, and X_test should have 200 rows and 20 columns. You can verify this by filling the code below:"
      ]
    },
    {
      "cell_type": "code",
      "metadata": {
        "id": "QmX9QudRyzmJ"
      },
      "source": [
        "# Print the shape of X_train\r\n",
        "\r\n",
        "\r\n",
        "# Print the shape of X_crossVal\r\n",
        "\r\n",
        "\r\n",
        "# Print the shape of X_test"
      ],
      "execution_count": null,
      "outputs": []
    }
  ]
}