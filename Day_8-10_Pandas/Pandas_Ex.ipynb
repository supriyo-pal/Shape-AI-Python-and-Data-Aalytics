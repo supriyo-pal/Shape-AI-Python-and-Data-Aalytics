{
  "nbformat": 4,
  "nbformat_minor": 0,
  "metadata": {
    "colab": {
      "name": "Pandas_Ex.ipynb",
      "provenance": []
    },
    "kernelspec": {
      "name": "python3",
      "display_name": "Python 3"
    }
  },
  "cells": [
    {
      "cell_type": "markdown",
      "metadata": {
        "id": "buu5nKi1Gixy"
      },
      "source": [
        "# **Statistics from Stock Data**\r\n",
        "\r\n",
        "In this lab we will load stock data into a Pandas Dataframe and calculate some statistics on it. We will be working with stock data from Google, Apple, and Amazon. All the stock data was downloaded from yahoo finance in CSV format. In your workspace you should have a file named GOOG.csv containing the Google stock data, a file named AAPL.csv containing the Apple stock data, and a file named AMZN.csv containing the Amazon stock data. (You can see the workspace folder by clicking on the Jupyter logo in the upper left corner of the workspace.) All the files contain 7 columns of data:\r\n",
        "\r\n",
        "## **Date Open High Low Close Adj_Close Volume**\r\n",
        "\r\n",
        "We will start by reading in any of the above CSV files into a DataFrame and see what the data looks like."
      ]
    },
    {
      "cell_type": "code",
      "metadata": {
        "id": "93q0y5k1FRJf"
      },
      "source": [
        "# We import pandas into Python\r\n",
        "import pandas as pd\r\n",
        "\r\n",
        "# We read in a stock data data file into a data frame and see what it looks like\r\n",
        "df = pd.read_csv('./GOOG.csv')\r\n",
        "\r\n",
        "# We display the first 5 rows of the DataFrame\r\n",
        "df.head()"
      ],
      "execution_count": null,
      "outputs": []
    },
    {
      "cell_type": "markdown",
      "metadata": {
        "id": "x57Tuy0IG9RS"
      },
      "source": [
        "We clearly see that the Dataframe is has automatically labeled the row indices using integers and has labeled the columns of the DataFrame using the names of the columns in the CSV files.\r\n",
        "\r\n",
        "# **To Do**\r\n",
        "You will now load the stock data from Google, Apple, and Amazon into separte DataFrames. However, for each stock data you will only be interested in loading the Date and Adj Close columns into the Dataframe. In addtion, you want to use the Date column as your row index. Finally, you want the DataFrame to recognize the dates as actual dates (year/month/day) and not as strings. For each stock, you can accomplish all theses things in just one line of code by using the appropiate keywords in the pd.read_csv() function. Here are a few hints:\r\n",
        "\r\n",
        "- Use the index_col keyword to indicate which column you want to use as an index. For example index_col = ['Open']\r\n",
        "\r\n",
        "- Set the parse_dates keyword equal to True to convert the Dates into real dates of the form year/month/day\r\n",
        "\r\n",
        "- Use the usecols keyword to select which columns you want to load into the DataFrame. For example usecols = ['Open', 'High']\r\n",
        "\r\n",
        "Fill in the code below:"
      ]
    },
    {
      "cell_type": "code",
      "metadata": {
        "id": "BZzlIBIwHPKC"
      },
      "source": [
        "# We load the Google stock data into a DataFrame\r\n",
        "google_stock = \r\n",
        "\r\n",
        "# We load the Apple stock data into a DataFrame\r\n",
        "apple_stock = \r\n",
        "\r\n",
        "# We load the Amazon stock data into a DataFrame\r\n",
        "amazon_stock ="
      ],
      "execution_count": null,
      "outputs": []
    },
    {
      "cell_type": "markdown",
      "metadata": {
        "id": "AVCufm59HSoz"
      },
      "source": [
        "You can check that you have loaded the data correctly by displaying the head of the DataFrames."
      ]
    },
    {
      "cell_type": "code",
      "metadata": {
        "id": "mBgmvheQHUY7"
      },
      "source": [
        "# We display the google_stock DataFrame\r\n",
        "google_stock.head()"
      ],
      "execution_count": null,
      "outputs": []
    },
    {
      "cell_type": "markdown",
      "metadata": {
        "id": "1sotuXuCI8dD"
      },
      "source": [
        "You will now join the three DataFrames above to create a single new DataFrame that contains all the Adj Close for all the stocks. Let's start by creating an empty DataFrame that has as row indices calendar days between 2000-01-01 and 2016-12-31. We will use the pd.date_range() function to create the calendar dates first and then we will create a DataFrame that uses those dates as row indices:"
      ]
    },
    {
      "cell_type": "code",
      "metadata": {
        "id": "UOtGUek2I91a"
      },
      "source": [
        "# We create calendar dates between '2000-01-01' and  '2016-12-31'\r\n",
        "dates = pd.date_range('2000-01-01', '2016-12-31')\r\n",
        "\r\n",
        "# We create and empty DataFrame that uses the above dates as indices\r\n",
        "all_stocks = pd.DataFrame(index = dates)"
      ],
      "execution_count": null,
      "outputs": []
    },
    {
      "cell_type": "markdown",
      "metadata": {
        "id": "IZ8BYihqJAWi"
      },
      "source": [
        "# **To Do**\r\n",
        "You will now join the the individual DataFrames, google_stock, apple_stock, and amazon_stock, to the all_stocks DataFrame. However, before you do this, it is necessary that you change the name of the columns in each of the three dataframes. This is because the column labels in the all_stocks dataframe must be unique. Since all the columns in the individual dataframes have the same name, Adj Close, we must change them to the stock name before joining them. In the space below change the column label Adj Close of each individual dataframe to the name of the corresponding stock. You can do this by using the pd.DataFrame.rename() function."
      ]
    },
    {
      "cell_type": "code",
      "metadata": {
        "id": "91WYLJe_JFen"
      },
      "source": [
        "# Change the Adj Close column label to Google\r\n",
        "google_stock = \r\n",
        "\r\n",
        "# Change the Adj Close column label to Apple\r\n",
        "apple_stock = \r\n",
        "\r\n",
        "# Change the Adj Close column label to Amazon\r\n",
        "amazon_stock ="
      ],
      "execution_count": null,
      "outputs": []
    },
    {
      "cell_type": "markdown",
      "metadata": {
        "id": "Jy2rex0AJSBH"
      },
      "source": [
        "You can check that the column labels have been changed correctly by displaying the datadrames"
      ]
    },
    {
      "cell_type": "code",
      "metadata": {
        "id": "Ff-ksSyZJUDZ"
      },
      "source": [
        "# We display the google_stock DataFrame\r\n",
        "google_stock.head()"
      ],
      "execution_count": null,
      "outputs": []
    },
    {
      "cell_type": "markdown",
      "metadata": {
        "id": "ewm8cCHMJVaV"
      },
      "source": [
        "Now that we have unique column labels, we can join the individual DataFrames to the all_stocks DataFrame. For this we will use the dataframe.join() function. The function dataframe1.join(dataframe2) joins dataframe1 with dataframe2. We will join each dataframe one by one to the all_stocks dataframe. Fill in the code below to join the dataframes, the first join has been made for you:"
      ]
    },
    {
      "cell_type": "code",
      "metadata": {
        "id": "IDFb7p1ZJbx6"
      },
      "source": [
        "# We join the Google stock to all_stocks\r\n",
        "all_stocks = all_stocks.join(google_stock)\r\n",
        "\r\n",
        "# We join the Apple stock to all_stocks\r\n",
        "all_stocks = \r\n",
        "\r\n",
        "# We join the Amazon stock to all_stocks\r\n",
        "all_stocks ="
      ],
      "execution_count": null,
      "outputs": []
    },
    {
      "cell_type": "markdown",
      "metadata": {
        "id": "W3bFVHcnJfC2"
      },
      "source": [
        "You can check that the dataframes have been joined correctly by displaying the all_stocks dataframe"
      ]
    },
    {
      "cell_type": "code",
      "metadata": {
        "id": "ytueXu1eJhgG"
      },
      "source": [
        "# We display the google_stock DataFrame\r\n",
        "all_stocks.head()"
      ],
      "execution_count": null,
      "outputs": []
    },
    {
      "cell_type": "markdown",
      "metadata": {
        "id": "hzhFM_vkJkIf"
      },
      "source": [
        "# **To Do**\r\n",
        "Before we proceed to get some statistics on the stock data, let's first check that we don't have any NaN values. In the space below check if there are any NaN values in the all_stocks dataframe. If there are any, remove any rows that have NaN values:"
      ]
    },
    {
      "cell_type": "code",
      "metadata": {
        "id": "idG1SAeEJmcf"
      },
      "source": [
        "# Check if there are any NaN values in the all_stocks dataframe\r\n",
        "\r\n",
        "\r\n",
        "# Remove any rows that contain NaN values"
      ],
      "execution_count": null,
      "outputs": []
    },
    {
      "cell_type": "markdown",
      "metadata": {
        "id": "iVnENLhvJpNW"
      },
      "source": [
        "Now that you have eliminated any NaN values we can now calculate some basic statistics on the stock prices. Fill in the code below"
      ]
    },
    {
      "cell_type": "code",
      "metadata": {
        "id": "fkadzOipJrFh"
      },
      "source": [
        "# Print the average stock price for each stock\r\n",
        "\r\n",
        "# Print the median stock price for each stock\r\n",
        "\r\n",
        "# Print the standard deviation of the stock price for each stock  \r\n",
        "\r\n",
        "# Print the correlation between stocks"
      ],
      "execution_count": null,
      "outputs": []
    },
    {
      "cell_type": "markdown",
      "metadata": {
        "id": "YrMB8HfDJuJn"
      },
      "source": [
        "We will now look at how we can compute some rolling statistics, also known as moving statistics. We can calculate for example the rolling mean (moving average) of the Google stock price by using the Pandas dataframe.rolling().mean() method. The dataframe.rolling(N).mean() calculates the rolling mean over an N-day window. In other words, we can take a look at the average stock price every N days using the above method. Fill in the code below to calculate the average stock price every 150 days for Google stock"
      ]
    },
    {
      "cell_type": "code",
      "metadata": {
        "id": "NQ6BhC4NJxXP"
      },
      "source": [
        "# We compute the rolling mean using a 150-Day window for Google stock\r\n",
        "rollingMean ="
      ],
      "execution_count": null,
      "outputs": []
    },
    {
      "cell_type": "markdown",
      "metadata": {
        "id": "0RAwkEaUJzMX"
      },
      "source": [
        "We can also visualize the rolling mean by plotting the data in our dataframe. In the following lessons you will learn how to use Matplotlib to visualize data. For now I will just import matplotlib and plot the Google stock data on top of the rolling mean. You can play around by changing the rolling mean window and see how the plot changes."
      ]
    },
    {
      "cell_type": "code",
      "metadata": {
        "id": "1MNJ87XHJ2Of"
      },
      "source": [
        "# this allows plots to be rendered in the notebook\r\n",
        "%matplotlib inline \r\n",
        "\r\n",
        "# We import matplotlib into Python\r\n",
        "import matplotlib.pyplot as plt\r\n",
        "\r\n",
        "\r\n",
        "# We plot the Google stock data\r\n",
        "plt.plot(all_stocks['Google'])\r\n",
        "\r\n",
        "# We plot the rolling mean ontop of our Google stock data\r\n",
        "plt.plot(rollingMean)\r\n",
        "plt.legend(['Google Stock Price', 'Rolling Mean'])\r\n",
        "plt.show()"
      ],
      "execution_count": null,
      "outputs": []
    }
  ]
}